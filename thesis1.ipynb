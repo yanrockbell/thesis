{
 "cells": [
  {
   "cell_type": "code",
   "execution_count": 1,
   "metadata": {
    "collapsed": true
   },
   "outputs": [],
   "source": [
    "from __future__ import print_function\n",
    "import pandas as pd\n",
    "from random import seed\n",
    "from random import random\n",
    "import math\n",
    "import patsy\n",
    "import numpy as np\n",
    "#import statsmodels.api as sm\n",
    "import statsmodels.formula.api as smf\n",
    "import matplotlib.pyplot as plt\n",
    "from statsmodels.regression.quantile_regression import QuantReg"
   ]
  },
  {
   "cell_type": "code",
   "execution_count": 2,
   "metadata": {},
   "outputs": [],
   "source": [
    "station_list = pd.read_csv('~/station_list.csv')"
   ]
  },
  {
   "cell_type": "code",
   "execution_count": 3,
   "metadata": {},
   "outputs": [
    {
     "data": {
      "text/html": [
       "<div>\n",
       "<style scoped>\n",
       "    .dataframe tbody tr th:only-of-type {\n",
       "        vertical-align: middle;\n",
       "    }\n",
       "\n",
       "    .dataframe tbody tr th {\n",
       "        vertical-align: top;\n",
       "    }\n",
       "\n",
       "    .dataframe thead th {\n",
       "        text-align: right;\n",
       "    }\n",
       "</style>\n",
       "<table border=\"1\" class=\"dataframe\">\n",
       "  <thead>\n",
       "    <tr style=\"text-align: right;\">\n",
       "      <th></th>\n",
       "      <th>x</th>\n",
       "    </tr>\n",
       "  </thead>\n",
       "  <tbody>\n",
       "    <tr>\n",
       "      <th>0</th>\n",
       "      <td>1009</td>\n",
       "    </tr>\n",
       "    <tr>\n",
       "      <th>1</th>\n",
       "      <td>10092</td>\n",
       "    </tr>\n",
       "    <tr>\n",
       "      <th>2</th>\n",
       "      <td>10093</td>\n",
       "    </tr>\n",
       "    <tr>\n",
       "      <th>3</th>\n",
       "      <td>1013</td>\n",
       "    </tr>\n",
       "    <tr>\n",
       "      <th>4</th>\n",
       "      <td>10144</td>\n",
       "    </tr>\n",
       "  </tbody>\n",
       "</table>\n",
       "</div>"
      ],
      "text/plain": [
       "<div>\n",
       "<style scoped>\n",
       "    .dataframe tbody tr th:only-of-type {\n",
       "        vertical-align: middle;\n",
       "    }\n",
       "\n",
       "    .dataframe tbody tr th {\n",
       "        vertical-align: top;\n",
       "    }\n",
       "\n",
       "    .dataframe thead th {\n",
       "        text-align: right;\n",
       "    }\n",
       "</style>\n",
       "<table border=\"1\" class=\"dataframe\">\n",
       "  <thead>\n",
       "    <tr style=\"text-align: right;\">\n",
       "      <th></th>\n",
       "      <th>x</th>\n",
       "    </tr>\n",
       "  </thead>\n",
       "  <tbody>\n",
       "    <tr>\n",
       "      <th>0</th>\n",
       "      <td>1009</td>\n",
       "    </tr>\n",
       "    <tr>\n",
       "      <th>1</th>\n",
       "      <td>10092</td>\n",
       "    </tr>\n",
       "    <tr>\n",
       "      <th>2</th>\n",
       "      <td>10093</td>\n",
       "    </tr>\n",
       "    <tr>\n",
       "      <th>3</th>\n",
       "      <td>1013</td>\n",
       "    </tr>\n",
       "    <tr>\n",
       "      <th>4</th>\n",
       "      <td>10144</td>\n",
       "    </tr>\n",
       "  </tbody>\n",
       "</table>\n",
       "</div>"
      ]
     },
     "execution_count": 3,
     "metadata": {},
     "output_type": "execute_result"
    }
   ],
   "source": [
    "station_list.head()"
   ]
  },
  {
   "cell_type": "code",
   "execution_count": 4,
   "metadata": {},
   "outputs": [
    {
     "data": {
      "text/html": [
       "<div>\n",
       "<style scoped>\n",
       "    .dataframe tbody tr th:only-of-type {\n",
       "        vertical-align: middle;\n",
       "    }\n",
       "\n",
       "    .dataframe tbody tr th {\n",
       "        vertical-align: top;\n",
       "    }\n",
       "\n",
       "    .dataframe thead th {\n",
       "        text-align: right;\n",
       "    }\n",
       "</style>\n",
       "<table border=\"1\" class=\"dataframe\">\n",
       "  <thead>\n",
       "    <tr style=\"text-align: right;\">\n",
       "      <th></th>\n",
       "      <th>x</th>\n",
       "    </tr>\n",
       "  </thead>\n",
       "  <tbody>\n",
       "    <tr>\n",
       "      <th>0</th>\n",
       "      <td>001009</td>\n",
       "    </tr>\n",
       "    <tr>\n",
       "      <th>1</th>\n",
       "      <td>010092</td>\n",
       "    </tr>\n",
       "    <tr>\n",
       "      <th>2</th>\n",
       "      <td>010093</td>\n",
       "    </tr>\n",
       "    <tr>\n",
       "      <th>3</th>\n",
       "      <td>001013</td>\n",
       "    </tr>\n",
       "    <tr>\n",
       "      <th>4</th>\n",
       "      <td>010144</td>\n",
       "    </tr>\n",
       "  </tbody>\n",
       "</table>\n",
       "</div>"
      ],
      "text/plain": [
       "<div>\n",
       "<style scoped>\n",
       "    .dataframe tbody tr th:only-of-type {\n",
       "        vertical-align: middle;\n",
       "    }\n",
       "\n",
       "    .dataframe tbody tr th {\n",
       "        vertical-align: top;\n",
       "    }\n",
       "\n",
       "    .dataframe thead th {\n",
       "        text-align: right;\n",
       "    }\n",
       "</style>\n",
       "<table border=\"1\" class=\"dataframe\">\n",
       "  <thead>\n",
       "    <tr style=\"text-align: right;\">\n",
       "      <th></th>\n",
       "      <th>x</th>\n",
       "    </tr>\n",
       "  </thead>\n",
       "  <tbody>\n",
       "    <tr>\n",
       "      <th>0</th>\n",
       "      <td>001009</td>\n",
       "    </tr>\n",
       "    <tr>\n",
       "      <th>1</th>\n",
       "      <td>010092</td>\n",
       "    </tr>\n",
       "    <tr>\n",
       "      <th>2</th>\n",
       "      <td>010093</td>\n",
       "    </tr>\n",
       "    <tr>\n",
       "      <th>3</th>\n",
       "      <td>001013</td>\n",
       "    </tr>\n",
       "    <tr>\n",
       "      <th>4</th>\n",
       "      <td>010144</td>\n",
       "    </tr>\n",
       "  </tbody>\n",
       "</table>\n",
       "</div>"
      ]
     },
     "execution_count": 4,
     "metadata": {},
     "output_type": "execute_result"
    }
   ],
   "source": [
    "for i in range(len(station_list)):\n",
    "    station_list.iloc[i,0] = str(station_list.iloc[i,0]).zfill(6)\n",
    "\n",
    "station_list.head()"
   ]
  },
  {
   "cell_type": "code",
   "execution_count": 5,
   "metadata": {},
   "outputs": [
    {
     "name": "stderr",
     "output_type": "stream",
     "text": [
      "D:\\ProgramData\\Anaconda3\\lib\\site-packages\\scipy\\stats\\stats.py:1713: FutureWarning: Using a non-tuple sequence for multidimensional indexing is deprecated; use `arr[tuple(seq)]` instead of `arr[seq]`. In the future this will be interpreted as an array index, `arr[np.array(seq)]`, which will result either in an error or a different result.\n  return np.add.reduce(sorted[indexer] * weights, axis=axis) / sumval\n"
     ]
    },
    {
     "name": "stderr",
     "output_type": "stream",
     "text": [
      "D:\\ProgramData\\Anaconda3\\lib\\site-packages\\statsmodels\\regression\\quantile_regression.py:193: IterationLimitWarning: Maximum number of iterations (1000) reached.\n  \") reached.\", IterationLimitWarning)\n"
     ]
    },
    {
     "name": "stderr",
     "output_type": "stream",
     "text": [
      "D:\\ProgramData\\Anaconda3\\lib\\site-packages\\statsmodels\\regression\\quantile_regression.py:193: IterationLimitWarning: Maximum number of iterations (1000) reached.\n  \") reached.\", IterationLimitWarning)\n"
     ]
    },
    {
     "name": "stderr",
     "output_type": "stream",
     "text": [
      "D:\\ProgramData\\Anaconda3\\lib\\site-packages\\statsmodels\\regression\\quantile_regression.py:193: IterationLimitWarning: Maximum number of iterations (1000) reached.\n  \") reached.\", IterationLimitWarning)\n"
     ]
    },
    {
     "name": "stderr",
     "output_type": "stream",
     "text": [
      "D:\\ProgramData\\Anaconda3\\lib\\site-packages\\statsmodels\\regression\\quantile_regression.py:193: IterationLimitWarning: Maximum number of iterations (1000) reached.\n  \") reached.\", IterationLimitWarning)\n"
     ]
    },
    {
     "name": "stderr",
     "output_type": "stream",
     "text": [
      "D:\\ProgramData\\Anaconda3\\lib\\site-packages\\statsmodels\\regression\\quantile_regression.py:193: IterationLimitWarning: Maximum number of iterations (1000) reached.\n  \") reached.\", IterationLimitWarning)\n"
     ]
    },
    {
     "name": "stderr",
     "output_type": "stream",
     "text": [
      "D:\\ProgramData\\Anaconda3\\lib\\site-packages\\statsmodels\\regression\\quantile_regression.py:193: IterationLimitWarning: Maximum number of iterations (1000) reached.\n  \") reached.\", IterationLimitWarning)\n"
     ]
    },
    {
     "name": "stderr",
     "output_type": "stream",
     "text": [
      "D:\\ProgramData\\Anaconda3\\lib\\site-packages\\statsmodels\\regression\\quantile_regression.py:193: IterationLimitWarning: Maximum number of iterations (1000) reached.\n  \") reached.\", IterationLimitWarning)\n"
     ]
    },
    {
     "name": "stderr",
     "output_type": "stream",
     "text": [
      "D:\\ProgramData\\Anaconda3\\lib\\site-packages\\statsmodels\\regression\\quantile_regression.py:193: IterationLimitWarning: Maximum number of iterations (1000) reached.\n  \") reached.\", IterationLimitWarning)\n"
     ]
    },
    {
     "name": "stderr",
     "output_type": "stream",
     "text": [
      "D:\\ProgramData\\Anaconda3\\lib\\site-packages\\statsmodels\\regression\\quantile_regression.py:193: IterationLimitWarning: Maximum number of iterations (1000) reached.\n  \") reached.\", IterationLimitWarning)\n"
     ]
    },
    {
     "name": "stderr",
     "output_type": "stream",
     "text": [
      "D:\\ProgramData\\Anaconda3\\lib\\site-packages\\statsmodels\\regression\\quantile_regression.py:193: IterationLimitWarning: Maximum number of iterations (1000) reached.\n  \") reached.\", IterationLimitWarning)\n"
     ]
    },
    {
     "name": "stderr",
     "output_type": "stream",
     "text": [
      "D:\\ProgramData\\Anaconda3\\lib\\site-packages\\statsmodels\\regression\\quantile_regression.py:193: IterationLimitWarning: Maximum number of iterations (1000) reached.\n  \") reached.\", IterationLimitWarning)\n"
     ]
    },
    {
     "name": "stderr",
     "output_type": "stream",
     "text": [
      "D:\\ProgramData\\Anaconda3\\lib\\site-packages\\statsmodels\\regression\\quantile_regression.py:193: IterationLimitWarning: Maximum number of iterations (1000) reached.\n  \") reached.\", IterationLimitWarning)\n"
     ]
    },
    {
     "name": "stderr",
     "output_type": "stream",
     "text": [
      "D:\\ProgramData\\Anaconda3\\lib\\site-packages\\statsmodels\\regression\\quantile_regression.py:193: IterationLimitWarning: Maximum number of iterations (1000) reached.\n  \") reached.\", IterationLimitWarning)\n"
     ]
    }
   ],
   "source": [
    "elnino_50_slope = []\n",
    "elnino_50_pvalue = []\n",
    "elnino_99_slope = []\n",
    "elnino_99_pvalue = []\n",
    "lanina_50_slope = []\n",
    "lanina_50_pvalue = []\n",
    "lanina_99_slope = []\n",
    "lanina_99_pvalue = []"
   ]
  },
  {
   "cell_type": "code",
   "execution_count": 6,
   "metadata": {},
   "outputs": [
    {
     "name": "stderr",
     "output_type": "stream",
     "text": [
      "D:\\ProgramData\\Anaconda3\\lib\\site-packages\\scipy\\stats\\stats.py:1713: FutureWarning: Using a non-tuple sequence for multidimensional indexing is deprecated; use `arr[tuple(seq)]` instead of `arr[seq]`. In the future this will be interpreted as an array index, `arr[np.array(seq)]`, which will result either in an error or a different result.\n  return np.add.reduce(sorted[indexer] * weights, axis=axis) / sumval\n"
     ]
    },
    {
     "name": "stderr",
     "output_type": "stream",
     "text": [
      "D:\\ProgramData\\Anaconda3\\lib\\site-packages\\statsmodels\\regression\\quantile_regression.py:193: IterationLimitWarning: Maximum number of iterations (1000) reached.\n  \") reached.\", IterationLimitWarning)\n"
     ]
    },
    {
     "name": "stderr",
     "output_type": "stream",
     "text": [
      "D:\\ProgramData\\Anaconda3\\lib\\site-packages\\statsmodels\\regression\\quantile_regression.py:193: IterationLimitWarning: Maximum number of iterations (1000) reached.\n  \") reached.\", IterationLimitWarning)\n"
     ]
    },
    {
     "name": "stderr",
     "output_type": "stream",
     "text": [
      "D:\\ProgramData\\Anaconda3\\lib\\site-packages\\statsmodels\\regression\\quantile_regression.py:193: IterationLimitWarning: Maximum number of iterations (1000) reached.\n  \") reached.\", IterationLimitWarning)\n"
     ]
    },
    {
     "name": "stderr",
     "output_type": "stream",
     "text": [
      "D:\\ProgramData\\Anaconda3\\lib\\site-packages\\statsmodels\\regression\\quantile_regression.py:193: IterationLimitWarning: Maximum number of iterations (1000) reached.\n  \") reached.\", IterationLimitWarning)\n"
     ]
    },
    {
     "name": "stderr",
     "output_type": "stream",
     "text": [
      "D:\\ProgramData\\Anaconda3\\lib\\site-packages\\statsmodels\\regression\\quantile_regression.py:193: IterationLimitWarning: Maximum number of iterations (1000) reached.\n  \") reached.\", IterationLimitWarning)\n"
     ]
    },
    {
     "name": "stderr",
     "output_type": "stream",
     "text": [
      "D:\\ProgramData\\Anaconda3\\lib\\site-packages\\statsmodels\\regression\\quantile_regression.py:193: IterationLimitWarning: Maximum number of iterations (1000) reached.\n  \") reached.\", IterationLimitWarning)\n"
     ]
    },
    {
     "name": "stderr",
     "output_type": "stream",
     "text": [
      "D:\\ProgramData\\Anaconda3\\lib\\site-packages\\statsmodels\\regression\\quantile_regression.py:193: IterationLimitWarning: Maximum number of iterations (1000) reached.\n  \") reached.\", IterationLimitWarning)\n"
     ]
    },
    {
     "name": "stderr",
     "output_type": "stream",
     "text": [
      "D:\\ProgramData\\Anaconda3\\lib\\site-packages\\statsmodels\\regression\\quantile_regression.py:193: IterationLimitWarning: Maximum number of iterations (1000) reached.\n  \") reached.\", IterationLimitWarning)\n"
     ]
    },
    {
     "name": "stderr",
     "output_type": "stream",
     "text": [
      "D:\\ProgramData\\Anaconda3\\lib\\site-packages\\statsmodels\\regression\\quantile_regression.py:193: IterationLimitWarning: Maximum number of iterations (1000) reached.\n  \") reached.\", IterationLimitWarning)\n"
     ]
    },
    {
     "name": "stderr",
     "output_type": "stream",
     "text": [
      "D:\\ProgramData\\Anaconda3\\lib\\site-packages\\statsmodels\\regression\\quantile_regression.py:193: IterationLimitWarning: Maximum number of iterations (1000) reached.\n  \") reached.\", IterationLimitWarning)\n"
     ]
    },
    {
     "name": "stderr",
     "output_type": "stream",
     "text": [
      "D:\\ProgramData\\Anaconda3\\lib\\site-packages\\statsmodels\\regression\\quantile_regression.py:193: IterationLimitWarning: Maximum number of iterations (1000) reached.\n  \") reached.\", IterationLimitWarning)\n"
     ]
    },
    {
     "name": "stderr",
     "output_type": "stream",
     "text": [
      "D:\\ProgramData\\Anaconda3\\lib\\site-packages\\statsmodels\\regression\\quantile_regression.py:193: IterationLimitWarning: Maximum number of iterations (1000) reached.\n  \") reached.\", IterationLimitWarning)\n"
     ]
    },
    {
     "name": "stderr",
     "output_type": "stream",
     "text": [
      "D:\\ProgramData\\Anaconda3\\lib\\site-packages\\statsmodels\\regression\\quantile_regression.py:193: IterationLimitWarning: Maximum number of iterations (1000) reached.\n  \") reached.\", IterationLimitWarning)\n"
     ]
    }
   ],
   "source": [
    "seed(123)\n",
    "\n",
    "for i in range(len(station_list)):\n",
    "    \n",
    "    file_elnino = '~/' + station_list.iloc[i,0] + '_Elnino.csv'\n",
    "    elnino = pd.read_csv(file_elnino)\n",
    "    random_elnino = np.random.random(len(elnino))\n",
    "    elnino['precipitation'] = elnino['precipitation'] + random_elnino/100\n",
    "    elnino['precipitation'] = elnino['precipitation'].apply(lambda x : math.log10(x))\n",
    "    mod_elnino = smf.quantreg('precipitation ~ maxtemperature', elnino)\n",
    "    res_elnino_50 = mod_elnino.fit(q=0.5)\n",
    "    res_elnino_99 = mod_elnino.fit(q=0.99)\n",
    "    \n",
    "    elnino_50_slope.append(res_elnino_50.params[1])\n",
    "    elnino_50_pvalue.append(res_elnino_50.pvalues[1])\n",
    "    elnino_99_slope.append(res_elnino_99.params[1])\n",
    "    elnino_99_pvalue.append(res_elnino_99.pvalues[1])\n",
    "    \n",
    "    file_lanina = '~/' + station_list.iloc[i,0] + '_Lanina.csv'\n",
    "    lanina = pd.read_csv(file_lanina)\n",
    "    random_lanina = np.random.random(len(lanina))\n",
    "    lanina['precipitation'] = lanina['precipitation'] + random_lanina/100\n",
    "    lanina['precipitation'] = lanina['precipitation'].apply(lambda x : math.log10(x))\n",
    "    mod_lanina = smf.quantreg('precipitation ~ maxtemperature', lanina)\n",
    "    res_lanina_50 = mod_lanina.fit(q=0.5)\n",
    "    res_lanina_99 = mod_lanina.fit(q=0.99)\n",
    "    \n",
    "    lanina_50_slope.append(res_lanina_50.params[1])\n",
    "    lanina_50_pvalue.append(res_lanina_50.pvalues[1])\n",
    "    lanina_99_slope.append(res_lanina_99.params[1])\n",
    "    lanina_99_pvalue.append(res_lanina_99.pvalues[1])\n",
    "    \n",
    "\n"
   ]
  },
  {
   "cell_type": "code",
   "execution_count": 7,
   "metadata": {},
   "outputs": [],
   "source": [
    "result = {'elnino_50_slope': elnino_50_slope,\n",
    "          'elnino_50_pvalue': elnino_50_pvalue,\n",
    "          'elnino_99_slope': elnino_99_slope,\n",
    "          'elnino_99_pvalue': elnino_99_pvalue,\n",
    "          'lanina_50_slope': lanina_50_slope,\n",
    "          'lanina_50_pvalue': lanina_50_pvalue,\n",
    "          'lanina_99_slope': lanina_99_slope,\n",
    "          'lanina_99_pvalue': lanina_99_pvalue}\n",
    "result = pd.DataFrame(result)\n",
    "result.to_csv('~/result_2.csv')\n"
   ]
  },
  {
   "cell_type": "code",
   "execution_count": 8,
   "metadata": {},
   "outputs": [],
   "source": [
    "import matplotlib.pyplot as plt\n",
    "%matplotlib inline "
   ]
  },
  {
   "cell_type": "code",
   "execution_count": 9,
   "metadata": {},
   "outputs": [],
   "source": [
    "result = pd.read_csv('~/result_2.csv')\n",
    "result.iloc[:,0] = station_list.iloc[:,0]"
   ]
  },
  {
   "cell_type": "code",
   "execution_count": 10,
   "metadata": {},
   "outputs": [
    {
     "data": {
      "image/png": "[encoded data removed]",
      "text/plain": [
       "<Figure size 432x288 with 1 Axes>"
      ]
     },
     "metadata": {},
     "output_type": "display_data"
    }
   ],
   "source": [
    "plt.scatter(result['elnino_50_slope'], result['lanina_50_slope'], color = 'red')\n",
    "plt.scatter(result['elnino_99_slope'], result['lanina_99_slope'], color = 'blue')\n",
    "x = np.linspace(-0.2, 0.1, 1000)\n",
    "plt.plot(x, x + 0, linestyle='solid')\n",
    "plt.show()"
   ]
  },
  {
   "cell_type": "code",
   "execution_count": 11,
   "metadata": {},
   "outputs": [
    {
     "data": {
      "text/plain": [
       "0.36444444444444446"
      ]
     },
     "execution_count": 11,
     "metadata": {},
     "output_type": "execute_result"
    }
   ],
   "source": [
    "len(result[result['elnino_50_slope'] > result['lanina_50_slope']]) / len(result)"
   ]
  },
  {
   "cell_type": "code",
   "execution_count": 12,
   "metadata": {},
   "outputs": [
    {
     "data": {
      "text/plain": [
       "0.5133333333333333"
      ]
     },
     "execution_count": 12,
     "metadata": {},
     "output_type": "execute_result"
    }
   ],
   "source": [
    "len(result[result['elnino_99_slope'] > result['lanina_99_slope']]) / len(result)"
   ]
  },
  {
   "cell_type": "code",
   "execution_count": 13,
   "metadata": {},
   "outputs": [
    {
     "data": {
      "text/plain": [
       "Ttest_relResult(statistic=-4.714315560711927, pvalue=3.241228813789226e-06)"
      ]
     },
     "execution_count": 13,
     "metadata": {},
     "output_type": "execute_result"
    }
   ],
   "source": [
    "from scipy import stats\n",
    "stats.ttest_rel(result['elnino_50_slope'], result['lanina_50_slope'])"
   ]
  },
  {
   "cell_type": "code",
   "execution_count": 14,
   "metadata": {},
   "outputs": [
    {
     "data": {
      "text/plain": [
       "Ttest_relResult(statistic=0.7477577714134495, pvalue=0.45499772299775754)"
      ]
     },
     "execution_count": 14,
     "metadata": {},
     "output_type": "execute_result"
    }
   ],
   "source": [
    "stats.ttest_rel(result['elnino_99_slope'], result['lanina_99_slope'])"
   ]
  },
  {
   "cell_type": "code",
   "execution_count": null,
   "metadata": {},
   "outputs": [],
   "source": []
  }
 ],
 "metadata": {
  "kernelspec": {
   "display_name": "Python 2",
   "language": "python",
   "name": "python2"
  },
  "language_info": {
   "codemirror_mode": {
    "name": "ipython",
    "version": 2
   },
   "file_extension": ".py",
   "mimetype": "text/x-python",
   "name": "python",
   "nbconvert_exporter": "python",
   "pygments_lexer": "ipython2",
   "version": "2.7.6"
  }
 },
 "nbformat": 4,
 "nbformat_minor": 0
}
